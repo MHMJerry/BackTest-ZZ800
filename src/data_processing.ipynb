{
 "cells": [
  {
   "cell_type": "code",
   "execution_count": 6,
   "metadata": {},
   "outputs": [],
   "source": [
    "import pandas as pd\n",
    "import numpy as np\n",
    "import os\n",
    "import matplotlib.pylab as plt\n",
    "import scipy.stats\n",
    "import matplotlib.ticker as ticker\n",
    "from tqdm import tqdm\n",
    "import warnings\n",
    "# warnings.filterwarnings(\"ignore\")\n",
    "from trade import BackTest\n",
    "ins = BackTest('res/all_ew/all_ew', 'strategy/strategy_all_ew.xlsx',0)"
   ]
  },
  {
   "cell_type": "code",
   "execution_count": 2,
   "metadata": {},
   "outputs": [
    {
     "data": {
      "text/plain": [
       "-91793.22741122654"
      ]
     },
     "execution_count": 2,
     "metadata": {},
     "output_type": "execute_result"
    }
   ],
   "source": [
    "md = 9.5055/(1+.08)\n",
    "p = 114.181\n",
    "md_h = 9.8703/(1+.08)\n",
    "h = 119.792\n",
    "n=100000\n",
    "-p*md/h/md_h*n\n"
   ]
  },
  {
   "cell_type": "code",
   "execution_count": 4,
   "metadata": {},
   "outputs": [
    {
     "data": {
      "text/plain": [
       "100495.1384722222"
      ]
     },
     "execution_count": 4,
     "metadata": {},
     "output_type": "execute_result"
    }
   ],
   "source": [
    "dy = 0.1/100\n",
    "p*md*dy*n"
   ]
  },
  {
   "cell_type": "code",
   "execution_count": 32,
   "metadata": {},
   "outputs": [
    {
     "data": {
      "text/plain": [
       "95.86328707310743"
      ]
     },
     "execution_count": 32,
     "metadata": {},
     "output_type": "execute_result"
    }
   ],
   "source": [
    "fv=100\n",
    "ttm= 18\n",
    "freq = 2\n",
    "ytm = 10/100\n",
    "coupon = 9.5/100\n",
    "tenor = np.arange(1,ttm*freq+1)\n",
    "pvCoupon = ((ytm/freq+1)**(-tenor)).sum()*(fv*coupon/freq)\n",
    "pv =(ytm/freq+1)**(-ttm*freq)*fv+pvCoupon\n",
    "pv"
   ]
  },
  {
   "cell_type": "code",
   "execution_count": 2,
   "metadata": {},
   "outputs": [],
   "source": [
    "# # 合并不同文件到一起\n",
    "# tmpD = pd.DataFrame()\n",
    "# for listName in os.listdir('data/tmp'):\n",
    "#     for file in os.listdir(f'data/tmp/{listName}'):\n",
    "#         if file[-4:] == '.csv':\n",
    "#             tmpD = tmpD.append(pd.read_csv(f'data/tmp/{listName}/{file}'))\n",
    "# # tmpD.sort_values('Enddt').to_csv('data/index_weight_data.csv',index = False)"
   ]
  },
  {
   "cell_type": "code",
   "execution_count": 4,
   "metadata": {},
   "outputs": [],
   "source": [
    "tmpD.columns=['code', 'date', 'open', 'high', 'low', 'close', 'volume', 'value',\n",
    "       'return']"
   ]
  },
  {
   "cell_type": "code",
   "execution_count": 6,
   "metadata": {},
   "outputs": [],
   "source": [
    "tmpD.sort_values('date').to_csv('data/index.csv',index = False)"
   ]
  },
  {
   "cell_type": "code",
   "execution_count": 7,
   "metadata": {},
   "outputs": [],
   "source": [
    "# forward = pd.read_csv('data/forward_data.csv')\n",
    "# forward['Symbol']=forward['Symbol'].astype(str).str.rjust(6,'0')\n",
    "\n",
    "# # 前复权open price\n",
    "# openPF = forward.pivot(index='TradingDate',columns='Symbol',values='OpenPrice')\n",
    "# openPF.columns = openPF.columns.astype(str).str.rjust(6,'0')\n",
    "# openPF.to_csv('data/openPF.csv')\n",
    "\n",
    "\n",
    "# # 前复权日流通市值\n",
    "# cValueF = forward.pivot(index='TradingDate',columns='Symbol',values='CirculatedMarketValue')\n",
    "# cValueF.to_csv('data/cValueF.csv')\n",
    "\n",
    "# #########################################################################\n",
    "\n",
    "# stkTrade = pd.read_csv('data/stk_trade_data.csv')\n",
    "# stkTrade['Stkcd']=stkTrade['Stkcd'].astype(str).str.rjust(6,'0')\n",
    "\n",
    "# # 日流通市值\n",
    "# cValue = stkTrade.pivot(index='Trddt',columns='Stkcd',values='Dsmvosd')\n",
    "# cValue.to_csv('data/cValue.csv')\n",
    "\n",
    "# # 日开盘价\n",
    "# openP = stkTrade.pivot(index='Trddt',columns='Stkcd',values='Opnprc')\n",
    "# openP.to_csv('data/openP.csv')\n",
    "\n",
    "# # 期货开盘价\n",
    "# data = pd.read_csv('data/stock_index_future.csv')\n",
    "# futureOpen = data.pivot(index='Trddt',columns='Agmtcd',values='Opnprc')"
   ]
  },
  {
   "cell_type": "code",
   "execution_count": 3,
   "metadata": {},
   "outputs": [],
   "source": [
    "data = pd.read_csv('data/stock_index_future.csv')\n",
    "indexWeight = pd.read_csv('data/index_weight_data.csv')\n",
    "indexWeight.set_index('Enddt',inplace=True)\n",
    "weight300 = indexWeight[indexWeight['Indexcd'] == 300]"
   ]
  },
  {
   "cell_type": "code",
   "execution_count": 4,
   "metadata": {},
   "outputs": [],
   "source": [
    "date = '2011-01-04'\n",
    "month = '2010-12'"
   ]
  },
  {
   "cell_type": "code",
   "execution_count": 5,
   "metadata": {},
   "outputs": [],
   "source": [
    "data = pd.read_csv('data/stock_index_future.csv')\n",
    "indexData = pd.read_csv('data/index_weight_data.csv')\n",
    "indexData.set_index('Enddt',inplace=True)\n",
    "cir = pd.read_csv('data/circulating.csv')\n",
    "stkCir = cir.pivot(index='Trdmnt',columns='Stkcd',values = 'Msmvosd')\n",
    "\n",
    "# indexDay['cir'].sum()"
   ]
  },
  {
   "cell_type": "code",
   "execution_count": 6,
   "metadata": {},
   "outputs": [],
   "source": [
    "def get_last_month(date):\n",
    "    y = date[:4]\n",
    "    m = int(date[5:7])-1\n",
    "    if m==0:\n",
    "        m=12\n",
    "        y=str(int(y)-1)\n",
    "    m=str(m).rjust(2,'0')\n",
    "    return y+'-'+m"
   ]
  },
  {
   "cell_type": "code",
   "execution_count": 7,
   "metadata": {},
   "outputs": [
    {
     "data": {
      "text/plain": [
       "'2019-12'"
      ]
     },
     "execution_count": 7,
     "metadata": {},
     "output_type": "execute_result"
    }
   ],
   "source": [
    "get_last_month('2020-01-01')"
   ]
  },
  {
   "cell_type": "code",
   "execution_count": 8,
   "metadata": {},
   "outputs": [],
   "source": [
    "def get_index_weight(date):\n",
    "    month = get_last_month(date)\n",
    "    indexDay = pd.merge(indexData.loc[date],stkCir.loc[month,],left_on='Stkcd',right_index=True)\n",
    "    indexDay=indexDay[['Indexcd','Stkcd','Indcd','Weight',month]]\n",
    "    indexDay.columns = ['index','code','ind','weight','cir']\n",
    "\n",
    "    # 500和300的权重\n",
    "    indexMkt = indexDay.groupby('index').sum()['cir']\n",
    "    indexMkt = indexMkt/indexMkt.sum()\n",
    "    # indexMkt.index =\n",
    "    return indexMkt"
   ]
  },
  {
   "cell_type": "code",
   "execution_count": 9,
   "metadata": {},
   "outputs": [
    {
     "data": {
      "text/plain": [
       "index\n",
       "300    0.782508\n",
       "905    0.217492\n",
       "Name: cir, dtype: float64"
      ]
     },
     "execution_count": 9,
     "metadata": {},
     "output_type": "execute_result"
    }
   ],
   "source": [
    "get_index_weight('2022-01-04')"
   ]
  },
  {
   "cell_type": "code",
   "execution_count": 65,
   "metadata": {},
   "outputs": [],
   "source": [
    "\n",
    "\n",
    "# 把指数权重分到个股上\n",
    "indexDay.loc[indexDay['index'] ==300,'weight'] = indexDay.loc[indexDay['index'] ==300,'weight'] * indexMkt[300]\n",
    "indexDay.loc[indexDay['index'] ==905,'weight'] = indexDay.loc[indexDay['index'] ==905,'weight'] * indexMkt[905]"
   ]
  },
  {
   "cell_type": "code",
   "execution_count": 66,
   "metadata": {},
   "outputs": [],
   "source": [
    "# 行业weight\n",
    "indWeight = indexDay.groupby('ind').sum()['weight']/100\n"
   ]
  },
  {
   "cell_type": "code",
   "execution_count": 6,
   "metadata": {},
   "outputs": [],
   "source": [
    "# ## 移仓换月分析\n",
    "\n",
    "# data = pd.read_csv('data/stock_index_future.csv')\n",
    "# data = data[data['Agmtcd'].str.slice(0,2)=='IC'] # 只看IF\n",
    "# maturity = data[['Agmtcd','Deldt']].drop_duplicates() # 合约到期时间\n",
    "# volume = data.pivot(index='Trddt',columns='Agmtcd',values='volume')\n",
    "\n",
    "# max_volume = volume.apply(lambda x:get_max(x),axis=1) # 主力合约\n",
    "# def get_max(se):\n",
    "#     return pd.Series({'maxVolume':se.max(),'code':se.index[se.argmax()]})\n",
    "# max_volume['max_prop' ]= max_volume['maxVolume']/volume.sum(axis=1)\n",
    "# last_day = max_volume.drop_duplicates('code',keep='last')\n",
    "# last_day.reset_index(inplace=True)\n",
    "\n",
    "# res  = pd.merge(last_day,maturity,left_on='code',right_on = 'Agmtcd').set_index('code')\n",
    "# res.columns = ['mainUntil','maxVolume','maxProp','code','maturity']\n",
    "\n",
    "\n",
    "# gap = pd.to_datetime(res['maturity']) - pd.to_datetime(res['mainUntil'])\n",
    "# gap.dt.days.describe().round(2)\n",
    "\n",
    "# max_volume['max_prop'].describe().round(2)"
   ]
  },
  {
   "cell_type": "code",
   "execution_count": 44,
   "metadata": {},
   "outputs": [],
   "source": [
    "'''得到空头仓位'''\n",
    "# 读期货合约信息\n",
    "data = pd.read_csv('data/future_basics.csv')\n",
    "futureContract = data[['Symbol','LastTradingDate','TradingFee','ShortTradingMargin','ContractMultiple']].drop_duplicates()\n",
    "# 限定时间区间\n",
    "futureContract=futureContract[futureContract['LastTradingDate']<='2022-07-30']\n",
    "futureContract=futureContract[futureContract['LastTradingDate']>='2011-01-01']\n",
    "# 只选IC和IF\n",
    "msk1= futureContract['Symbol'].str.startswith('IF')\n",
    "msk2= futureContract['Symbol'].str.startswith('IC')\n",
    "\n",
    "\n",
    "IFContract = futureContract[msk1].copy()\n",
    "ICContract = futureContract[msk2].copy()\n",
    "\n",
    "\n",
    "\n",
    "# 确定移仓换月日期\n",
    "timeline = list(pd.read_csv('data/futureOpen.csv')['Trddt'])\n",
    "def get_days_ago(date,t=3):\n",
    "    return timeline[timeline.index(date)-t]\n",
    "IFContract['changeDate']=IFContract['LastTradingDate'].apply(lambda x:get_days_ago(x))\n",
    "# shift换仓日期和target合约匹配\n",
    "IFContract.sort_values('changeDate',inplace=True)\n",
    "IFContract['changeDate']=IFContract['changeDate'].shift(1)\n",
    "# # 补充开仓日期\n",
    "IFContract.iloc[0,5] = ins.start\n",
    "\n",
    "\n",
    "\n",
    "ICContract['changeDate']=ICContract['LastTradingDate'].apply(lambda x:get_days_ago(x))\n",
    "# shift换仓日期和target合约匹配\n",
    "ICContract.sort_values('changeDate',inplace=True)\n",
    "ICContract['changeDate']=ICContract['changeDate'].shift(1)\n",
    "# 不做第一个合约\n",
    "ICContract = ICContract.iloc[1:]\n",
    "\n",
    "\n",
    "# # 储存策略\n",
    "# IFContract.set_index('changeDate',inplace = True)\n",
    "# IFContract[['Symbol','TradingFee','ShortTradingMargin','ContractMultiple']].to_csv('strategy/future_position.csv')\n"
   ]
  },
  {
   "cell_type": "code",
   "execution_count": 25,
   "metadata": {},
   "outputs": [
    {
     "data": {
      "text/html": [
       "<div>\n",
       "<style scoped>\n",
       "    .dataframe tbody tr th:only-of-type {\n",
       "        vertical-align: middle;\n",
       "    }\n",
       "\n",
       "    .dataframe tbody tr th {\n",
       "        vertical-align: top;\n",
       "    }\n",
       "\n",
       "    .dataframe thead th {\n",
       "        text-align: right;\n",
       "    }\n",
       "</style>\n",
       "<table border=\"1\" class=\"dataframe\">\n",
       "  <thead>\n",
       "    <tr style=\"text-align: right;\">\n",
       "      <th></th>\n",
       "      <th>Symbol</th>\n",
       "      <th>LastTradingDate</th>\n",
       "      <th>TradingFee</th>\n",
       "      <th>ShortTradingMargin</th>\n",
       "      <th>ContractMultiple</th>\n",
       "    </tr>\n",
       "    <tr>\n",
       "      <th>changeDate</th>\n",
       "      <th></th>\n",
       "      <th></th>\n",
       "      <th></th>\n",
       "      <th></th>\n",
       "      <th></th>\n",
       "    </tr>\n",
       "  </thead>\n",
       "  <tbody>\n",
       "    <tr>\n",
       "      <th>2011-01-04</th>\n",
       "      <td>IF1101</td>\n",
       "      <td>2011-01-21</td>\n",
       "      <td>0.000050</td>\n",
       "      <td>0.15</td>\n",
       "      <td>300</td>\n",
       "    </tr>\n",
       "    <tr>\n",
       "      <th>2011-01-18</th>\n",
       "      <td>IF1102</td>\n",
       "      <td>2011-02-18</td>\n",
       "      <td>0.000050</td>\n",
       "      <td>0.15</td>\n",
       "      <td>300</td>\n",
       "    </tr>\n",
       "    <tr>\n",
       "      <th>2011-02-15</th>\n",
       "      <td>IF1103</td>\n",
       "      <td>2011-03-18</td>\n",
       "      <td>0.000050</td>\n",
       "      <td>0.15</td>\n",
       "      <td>300</td>\n",
       "    </tr>\n",
       "    <tr>\n",
       "      <th>2011-03-15</th>\n",
       "      <td>IF1104</td>\n",
       "      <td>2011-04-15</td>\n",
       "      <td>0.000050</td>\n",
       "      <td>0.15</td>\n",
       "      <td>300</td>\n",
       "    </tr>\n",
       "    <tr>\n",
       "      <th>2011-04-12</th>\n",
       "      <td>IF1105</td>\n",
       "      <td>2011-05-20</td>\n",
       "      <td>0.000050</td>\n",
       "      <td>0.15</td>\n",
       "      <td>300</td>\n",
       "    </tr>\n",
       "    <tr>\n",
       "      <th>...</th>\n",
       "      <td>...</td>\n",
       "      <td>...</td>\n",
       "      <td>...</td>\n",
       "      <td>...</td>\n",
       "      <td>...</td>\n",
       "    </tr>\n",
       "    <tr>\n",
       "      <th>2022-02-15</th>\n",
       "      <td>IC2203</td>\n",
       "      <td>2022-03-18</td>\n",
       "      <td>0.000023</td>\n",
       "      <td>0.14</td>\n",
       "      <td>200</td>\n",
       "    </tr>\n",
       "    <tr>\n",
       "      <th>2022-03-15</th>\n",
       "      <td>IC2204</td>\n",
       "      <td>2022-04-15</td>\n",
       "      <td>0.000023</td>\n",
       "      <td>0.14</td>\n",
       "      <td>200</td>\n",
       "    </tr>\n",
       "    <tr>\n",
       "      <th>2022-04-12</th>\n",
       "      <td>IC2205</td>\n",
       "      <td>2022-05-20</td>\n",
       "      <td>0.000023</td>\n",
       "      <td>0.14</td>\n",
       "      <td>200</td>\n",
       "    </tr>\n",
       "    <tr>\n",
       "      <th>2022-05-17</th>\n",
       "      <td>IC2206</td>\n",
       "      <td>2022-06-17</td>\n",
       "      <td>0.000023</td>\n",
       "      <td>0.14</td>\n",
       "      <td>200</td>\n",
       "    </tr>\n",
       "    <tr>\n",
       "      <th>2022-06-14</th>\n",
       "      <td>IC2207</td>\n",
       "      <td>2022-07-15</td>\n",
       "      <td>0.000023</td>\n",
       "      <td>0.14</td>\n",
       "      <td>200</td>\n",
       "    </tr>\n",
       "  </tbody>\n",
       "</table>\n",
       "<p>139 rows × 5 columns</p>\n",
       "</div>"
      ],
      "text/plain": [
       "            Symbol LastTradingDate  TradingFee  ShortTradingMargin  \\\n",
       "changeDate                                                           \n",
       "2011-01-04  IF1101      2011-01-21    0.000050                0.15   \n",
       "2011-01-18  IF1102      2011-02-18    0.000050                0.15   \n",
       "2011-02-15  IF1103      2011-03-18    0.000050                0.15   \n",
       "2011-03-15  IF1104      2011-04-15    0.000050                0.15   \n",
       "2011-04-12  IF1105      2011-05-20    0.000050                0.15   \n",
       "...            ...             ...         ...                 ...   \n",
       "2022-02-15  IC2203      2022-03-18    0.000023                0.14   \n",
       "2022-03-15  IC2204      2022-04-15    0.000023                0.14   \n",
       "2022-04-12  IC2205      2022-05-20    0.000023                0.14   \n",
       "2022-05-17  IC2206      2022-06-17    0.000023                0.14   \n",
       "2022-06-14  IC2207      2022-07-15    0.000023                0.14   \n",
       "\n",
       "            ContractMultiple  \n",
       "changeDate                    \n",
       "2011-01-04               300  \n",
       "2011-01-18               300  \n",
       "2011-02-15               300  \n",
       "2011-03-15               300  \n",
       "2011-04-12               300  \n",
       "...                      ...  \n",
       "2022-02-15               200  \n",
       "2022-03-15               200  \n",
       "2022-04-12               200  \n",
       "2022-05-17               200  \n",
       "2022-06-14               200  \n",
       "\n",
       "[139 rows x 5 columns]"
      ]
     },
     "execution_count": 25,
     "metadata": {},
     "output_type": "execute_result"
    }
   ],
   "source": [
    "'''得到空头仓位'''\n",
    "# 读期货合约信息\n",
    "data = pd.read_csv('data/future_basics.csv')\n",
    "futureContract = data[['Symbol','LastTradingDate','TradingFee','ShortTradingMargin','ContractMultiple']].drop_duplicates()\n",
    "# 限定时间区间\n",
    "futureContract=futureContract[futureContract['LastTradingDate']<='2022-07-30']\n",
    "futureContract=futureContract[futureContract['LastTradingDate']>='2011-01-01']\n",
    "# 只选IC和IF\n",
    "msk1= futureContract['Symbol'].str.startswith('IF')\n",
    "msk2= futureContract['Symbol'].str.startswith('IC')\n",
    "futureContract = futureContract[msk1+msk2].copy()\n",
    "\n",
    "\n",
    "\n",
    "# 确定移仓换月日期\n",
    "timeline = list(pd.read_csv('data/futureOpen.csv')['Trddt'])\n",
    "def get_days_ago(date,t=3):\n",
    "    return timeline[timeline.index(date)-t]\n",
    "futureContract['changeDate']=futureContract['LastTradingDate'].apply(lambda x:get_days_ago(x))\n",
    "# shift换仓日期和target合约匹配\n",
    "futureContract.sort_values('changeDate',inplace=True)\n",
    "futureContract = futureContract.sort_values('Symbol')[1:].drop_duplicates('changeDate').sort_values('changeDate')\n",
    "futureContract['changeDate']=futureContract['changeDate'].shift(1)\n",
    "# # 补充开仓日期\n",
    "futureContract.iloc[0,5] = ins.start\n",
    "\n",
    "# 储存策略\n",
    "futureContract.set_index('changeDate',inplace = True)\n",
    "futureContract[['Symbol','TradingFee','ShortTradingMargin','ContractMultiple']].to_csv('strategy/future_position_500.csv')\n",
    "futureContract\n"
   ]
  },
  {
   "cell_type": "code",
   "execution_count": 26,
   "metadata": {},
   "outputs": [
    {
     "data": {
      "text/html": [
       "<div>\n",
       "<style scoped>\n",
       "    .dataframe tbody tr th:only-of-type {\n",
       "        vertical-align: middle;\n",
       "    }\n",
       "\n",
       "    .dataframe tbody tr th {\n",
       "        vertical-align: top;\n",
       "    }\n",
       "\n",
       "    .dataframe thead th {\n",
       "        text-align: right;\n",
       "    }\n",
       "</style>\n",
       "<table border=\"1\" class=\"dataframe\">\n",
       "  <thead>\n",
       "    <tr style=\"text-align: right;\">\n",
       "      <th></th>\n",
       "      <th>Symbol</th>\n",
       "      <th>LastTradingDate</th>\n",
       "      <th>TradingFee</th>\n",
       "      <th>ShortTradingMargin</th>\n",
       "      <th>ContractMultiple</th>\n",
       "    </tr>\n",
       "    <tr>\n",
       "      <th>changeDate</th>\n",
       "      <th></th>\n",
       "      <th></th>\n",
       "      <th></th>\n",
       "      <th></th>\n",
       "      <th></th>\n",
       "    </tr>\n",
       "  </thead>\n",
       "  <tbody>\n",
       "    <tr>\n",
       "      <th>2011-01-04</th>\n",
       "      <td>IF1101</td>\n",
       "      <td>2011-01-21</td>\n",
       "      <td>0.000050</td>\n",
       "      <td>0.15</td>\n",
       "      <td>300</td>\n",
       "    </tr>\n",
       "    <tr>\n",
       "      <th>2011-01-18</th>\n",
       "      <td>IF1102</td>\n",
       "      <td>2011-02-18</td>\n",
       "      <td>0.000050</td>\n",
       "      <td>0.15</td>\n",
       "      <td>300</td>\n",
       "    </tr>\n",
       "    <tr>\n",
       "      <th>2011-02-15</th>\n",
       "      <td>IF1103</td>\n",
       "      <td>2011-03-18</td>\n",
       "      <td>0.000050</td>\n",
       "      <td>0.15</td>\n",
       "      <td>300</td>\n",
       "    </tr>\n",
       "    <tr>\n",
       "      <th>2011-03-15</th>\n",
       "      <td>IF1104</td>\n",
       "      <td>2011-04-15</td>\n",
       "      <td>0.000050</td>\n",
       "      <td>0.15</td>\n",
       "      <td>300</td>\n",
       "    </tr>\n",
       "    <tr>\n",
       "      <th>2011-04-12</th>\n",
       "      <td>IF1105</td>\n",
       "      <td>2011-05-20</td>\n",
       "      <td>0.000050</td>\n",
       "      <td>0.15</td>\n",
       "      <td>300</td>\n",
       "    </tr>\n",
       "    <tr>\n",
       "      <th>...</th>\n",
       "      <td>...</td>\n",
       "      <td>...</td>\n",
       "      <td>...</td>\n",
       "      <td>...</td>\n",
       "      <td>...</td>\n",
       "    </tr>\n",
       "    <tr>\n",
       "      <th>2022-02-15</th>\n",
       "      <td>IF2203</td>\n",
       "      <td>2022-03-18</td>\n",
       "      <td>0.000023</td>\n",
       "      <td>0.12</td>\n",
       "      <td>300</td>\n",
       "    </tr>\n",
       "    <tr>\n",
       "      <th>2022-03-15</th>\n",
       "      <td>IF2204</td>\n",
       "      <td>2022-04-15</td>\n",
       "      <td>0.000023</td>\n",
       "      <td>0.12</td>\n",
       "      <td>300</td>\n",
       "    </tr>\n",
       "    <tr>\n",
       "      <th>2022-04-12</th>\n",
       "      <td>IF2205</td>\n",
       "      <td>2022-05-20</td>\n",
       "      <td>0.000023</td>\n",
       "      <td>0.12</td>\n",
       "      <td>300</td>\n",
       "    </tr>\n",
       "    <tr>\n",
       "      <th>2022-05-17</th>\n",
       "      <td>IF2206</td>\n",
       "      <td>2022-06-17</td>\n",
       "      <td>0.000023</td>\n",
       "      <td>0.12</td>\n",
       "      <td>300</td>\n",
       "    </tr>\n",
       "    <tr>\n",
       "      <th>2022-06-14</th>\n",
       "      <td>IF2207</td>\n",
       "      <td>2022-07-15</td>\n",
       "      <td>0.000023</td>\n",
       "      <td>0.12</td>\n",
       "      <td>300</td>\n",
       "    </tr>\n",
       "  </tbody>\n",
       "</table>\n",
       "<p>139 rows × 5 columns</p>\n",
       "</div>"
      ],
      "text/plain": [
       "            Symbol LastTradingDate  TradingFee  ShortTradingMargin  \\\n",
       "changeDate                                                           \n",
       "2011-01-04  IF1101      2011-01-21    0.000050                0.15   \n",
       "2011-01-18  IF1102      2011-02-18    0.000050                0.15   \n",
       "2011-02-15  IF1103      2011-03-18    0.000050                0.15   \n",
       "2011-03-15  IF1104      2011-04-15    0.000050                0.15   \n",
       "2011-04-12  IF1105      2011-05-20    0.000050                0.15   \n",
       "...            ...             ...         ...                 ...   \n",
       "2022-02-15  IF2203      2022-03-18    0.000023                0.12   \n",
       "2022-03-15  IF2204      2022-04-15    0.000023                0.12   \n",
       "2022-04-12  IF2205      2022-05-20    0.000023                0.12   \n",
       "2022-05-17  IF2206      2022-06-17    0.000023                0.12   \n",
       "2022-06-14  IF2207      2022-07-15    0.000023                0.12   \n",
       "\n",
       "            ContractMultiple  \n",
       "changeDate                    \n",
       "2011-01-04               300  \n",
       "2011-01-18               300  \n",
       "2011-02-15               300  \n",
       "2011-03-15               300  \n",
       "2011-04-12               300  \n",
       "...                      ...  \n",
       "2022-02-15               300  \n",
       "2022-03-15               300  \n",
       "2022-04-12               300  \n",
       "2022-05-17               300  \n",
       "2022-06-14               300  \n",
       "\n",
       "[139 rows x 5 columns]"
      ]
     },
     "execution_count": 26,
     "metadata": {},
     "output_type": "execute_result"
    }
   ],
   "source": [
    "'''得到空头仓位'''\n",
    "# 读期货合约信息\n",
    "data = pd.read_csv('data/future_basics.csv')\n",
    "futureContract = data[['Symbol','LastTradingDate','TradingFee','ShortTradingMargin','ContractMultiple']].drop_duplicates()\n",
    "# 限定时间区间\n",
    "futureContract=futureContract[futureContract['LastTradingDate']<='2022-07-30']\n",
    "futureContract=futureContract[futureContract['LastTradingDate']>='2011-01-01']\n",
    "# 只选IC和IF\n",
    "msk1= futureContract['Symbol'].str.startswith('IF')\n",
    "msk2= futureContract['Symbol'].str.startswith('IC')\n",
    "futureContract = futureContract[msk1].copy()\n",
    "\n",
    "\n",
    "\n",
    "# 确定移仓换月日期\n",
    "timeline = list(pd.read_csv('data/futureOpen.csv')['Trddt'])\n",
    "def get_days_ago(date,t=3):\n",
    "    return timeline[timeline.index(date)-t]\n",
    "futureContract['changeDate']=futureContract['LastTradingDate'].apply(lambda x:get_days_ago(x))\n",
    "# shift换仓日期和target合约匹配\n",
    "futureContract.sort_values('changeDate',inplace=True)\n",
    "# futureContract = futureContract.sort_values('Symbol')[1:].drop_duplicates('changeDate').sort_values('changeDate')\n",
    "futureContract['changeDate']=futureContract['changeDate'].shift(1)\n",
    "# # 补充开仓日期\n",
    "futureContract.iloc[0,5] = ins.start\n",
    "\n",
    "# 储存策略\n",
    "futureContract.set_index('changeDate',inplace = True)\n",
    "futureContract[['Symbol','TradingFee','ShortTradingMargin','ContractMultiple']].to_csv('strategy/future_position_300.csv')\n",
    "futureContract\n"
   ]
  },
  {
   "cell_type": "code",
   "execution_count": 53,
   "metadata": {},
   "outputs": [],
   "source": [
    "futureInfo = IFContract.append(ICContract).set_index('changeDate').sort_index()"
   ]
  },
  {
   "cell_type": "code",
   "execution_count": 117,
   "metadata": {},
   "outputs": [],
   "source": [
    "tryList = []\n",
    "for date,series in futureInfo.groupby('changeDate'):\n",
    "    tryList.append(get_index_weight(date).iloc[0])\n"
   ]
  },
  {
   "cell_type": "code",
   "execution_count": 123,
   "metadata": {},
   "outputs": [
    {
     "data": {
      "text/plain": [
       "{'whiskers': [<matplotlib.lines.Line2D at 0x25037a4af10>,\n",
       "  <matplotlib.lines.Line2D at 0x250379e1220>],\n",
       " 'caps': [<matplotlib.lines.Line2D at 0x250379e15b0>,\n",
       "  <matplotlib.lines.Line2D at 0x250379e1940>],\n",
       " 'boxes': [<matplotlib.lines.Line2D at 0x25037a4abe0>],\n",
       " 'medians': [<matplotlib.lines.Line2D at 0x250379e1cd0>],\n",
       " 'fliers': [<matplotlib.lines.Line2D at 0x250379ed0a0>],\n",
       " 'means': []}"
      ]
     },
     "execution_count": 123,
     "metadata": {},
     "output_type": "execute_result"
    },
    {
     "data": {
      "image/png": "[encoded data removed]",
      "text/plain": [
       "<Figure size 432x288 with 1 Axes>"
      ]
     },
     "metadata": {
      "needs_background": "light"
     },
     "output_type": "display_data"
    }
   ],
   "source": [
    "plt.boxplot(np.array(tryList))"
   ]
  },
  {
   "cell_type": "code",
   "execution_count": 110,
   "metadata": {},
   "outputs": [
    {
     "data": {
      "text/plain": [
       "index\n",
       "300    0.787018\n",
       "905    0.212982\n",
       "Name: cir, dtype: float64"
      ]
     },
     "execution_count": 110,
     "metadata": {},
     "output_type": "execute_result"
    }
   ],
   "source": [
    "index"
   ]
  },
  {
   "cell_type": "code",
   "execution_count": 113,
   "metadata": {},
   "outputs": [
    {
     "data": {
      "text/html": [
       "<div>\n",
       "<style scoped>\n",
       "    .dataframe tbody tr th:only-of-type {\n",
       "        vertical-align: middle;\n",
       "    }\n",
       "\n",
       "    .dataframe tbody tr th {\n",
       "        vertical-align: top;\n",
       "    }\n",
       "\n",
       "    .dataframe thead th {\n",
       "        text-align: right;\n",
       "    }\n",
       "</style>\n",
       "<table border=\"1\" class=\"dataframe\">\n",
       "  <thead>\n",
       "    <tr style=\"text-align: right;\">\n",
       "      <th></th>\n",
       "      <th>Symbol</th>\n",
       "      <th>LastTradingDate</th>\n",
       "      <th>TradingFee</th>\n",
       "      <th>ShortTradingMargin</th>\n",
       "      <th>ContractMultiple</th>\n",
       "    </tr>\n",
       "    <tr>\n",
       "      <th>changeDate</th>\n",
       "      <th></th>\n",
       "      <th></th>\n",
       "      <th></th>\n",
       "      <th></th>\n",
       "      <th></th>\n",
       "    </tr>\n",
       "  </thead>\n",
       "  <tbody>\n",
       "    <tr>\n",
       "      <th>2022-06-14</th>\n",
       "      <td>IF2207</td>\n",
       "      <td>2022-07-15</td>\n",
       "      <td>0.000023</td>\n",
       "      <td>0.12</td>\n",
       "      <td>300</td>\n",
       "    </tr>\n",
       "  </tbody>\n",
       "</table>\n",
       "</div>"
      ],
      "text/plain": [
       "            Symbol LastTradingDate  TradingFee  ShortTradingMargin  \\\n",
       "changeDate                                                           \n",
       "2022-06-14  IF2207      2022-07-15    0.000023                0.12   \n",
       "\n",
       "            ContractMultiple  \n",
       "changeDate                    \n",
       "2022-06-14               300  "
      ]
     },
     "execution_count": 113,
     "metadata": {},
     "output_type": "execute_result"
    }
   ],
   "source": [
    "series.loc[series['Symbol'].str.startswith('IF'),'weight'] = "
   ]
  },
  {
   "cell_type": "code",
   "execution_count": 61,
   "metadata": {},
   "outputs": [
    {
     "data": {
      "text/plain": [
       "count    1841.00\n",
       "mean        0.73\n",
       "std         0.13\n",
       "min         0.34\n",
       "25%         0.64\n",
       "50%         0.74\n",
       "75%         0.84\n",
       "max         0.97\n",
       "Name: max_prop, dtype: float64"
      ]
     },
     "execution_count": 61,
     "metadata": {},
     "output_type": "execute_result"
    }
   ],
   "source": [
    "# 移仓换月分析\n",
    "\n",
    "data = pd.read_csv('data/stock_index_future.csv')\n",
    "data = data[data['Agmtcd'].str.slice(0,2)=='IC'] # 只看IF\n",
    "maturity = data[['Agmtcd','Deldt']].drop_duplicates() # 合约到期时间\n",
    "volume = data.pivot(index='Trddt',columns='Agmtcd',values='volume')\n",
    "\n",
    "def get_max(se):\n",
    "    return pd.Series({'maxVolume':se.max(),'code':se.index[se.argmax()]})\n",
    "\n",
    "max_volume = volume.apply(lambda x:get_max(x),axis=1) # 主力合约\n",
    "\n",
    "max_volume['max_prop' ]= max_volume['maxVolume']/volume.sum(axis=1)\n",
    "last_day = max_volume.drop_duplicates('code',keep='last')\n",
    "last_day.reset_index(inplace=True)\n",
    "\n",
    "res  = pd.merge(last_day,maturity,left_on='code',right_on = 'Agmtcd').set_index('code')\n",
    "res.columns = ['mainUntil','maxVolume','maxProp','code','maturity']\n",
    "\n",
    "\n",
    "gap = pd.to_datetime(res['maturity']) - pd.to_datetime(res['mainUntil'])\n",
    "gap.dt.days.describe().round(2)\n",
    "\n",
    "max_volume['max_prop'].describe().round(2)"
   ]
  }
 ],
 "metadata": {
  "kernelspec": {
   "display_name": "Python 3.9.7 ('base')",
   "language": "python",
   "name": "python3"
  },
  "language_info": {
   "codemirror_mode": {
    "name": "ipython",
    "version": 3
   },
   "file_extension": ".py",
   "mimetype": "text/x-python",
   "name": "python",
   "nbconvert_exporter": "python",
   "pygments_lexer": "ipython3",
   "version": "3.9.7"
  },
  "orig_nbformat": 4,
  "vscode": {
   "interpreter": {
    "hash": "5ffd3771456060ad883fd3151aa3cea74de582629f9dd5cc909d9ebc80b96793"
   }
  }
 },
 "nbformat": 4,
 "nbformat_minor": 2
}
