{
 "cells": [
  {
   "cell_type": "code",
   "execution_count": 1,
   "metadata": {},
   "outputs": [],
   "source": [
    "import pandas as pd\n",
    "import numpy as np\n",
    "import os\n",
    "import matplotlib.pylab as plt\n",
    "import scipy.stats\n",
    "import matplotlib.ticker as ticker\n",
    "from tqdm import tqdm\n",
    "import warnings\n",
    "warnings.filterwarnings(\"ignore\")\n",
    "from trade import BackTest\n",
    "os.chdir(\"../\") "
   ]
  },
  {
   "cell_type": "code",
   "execution_count": 5,
   "metadata": {},
   "outputs": [
    {
     "name": "stderr",
     "output_type": "stream",
     "text": [
      "100%|██████████| 6/6 [00:00<00:00, 3010.63it/s]"
     ]
    },
    {
     "name": "stdout",
     "output_type": "stream",
     "text": [
      "dacc_ew\n",
      "dacc_vw\n",
      "mv_ew\n",
      "mv_vw\n",
      "raw_ew\n",
      "raw_vw\n"
     ]
    },
    {
     "name": "stderr",
     "output_type": "stream",
     "text": [
      "\n"
     ]
    }
   ],
   "source": [
    "strategyDir = 'strategy_1226'\n",
    "resDir = 'res_1226'\n",
    "for sty in tqdm(os.listdir(strategyDir)):\n",
    "    if sty.startswith('strategy'):\n",
    "        name = sty[9:-5]\n",
    "        print(name)\n",
    "        for hedge in [0,0.1,0.2,0.3,0.4]:\n",
    "            resPath = f'{resDir}/{name}/{name}_{hedge}'\n",
    "            if not os.path.exists(resPath):\n",
    "                os.makedirs(resPath)\n",
    "            # print(resPath,f'{strategyDir}/{sty}')\n",
    "            # ins = BackTest(resPath=resPath,positionPath=f'{strategyDir}/{sty}',hedge = hedge)\n",
    "            # ins.run()\n",
    "    "
   ]
  }
 ],
 "metadata": {
  "kernelspec": {
   "display_name": "Python 3.9.7 ('base')",
   "language": "python",
   "name": "python3"
  },
  "language_info": {
   "codemirror_mode": {
    "name": "ipython",
    "version": 3
   },
   "file_extension": ".py",
   "mimetype": "text/x-python",
   "name": "python",
   "nbconvert_exporter": "python",
   "pygments_lexer": "ipython3",
   "version": "3.9.7"
  },
  "orig_nbformat": 4,
  "vscode": {
   "interpreter": {
    "hash": "5ffd3771456060ad883fd3151aa3cea74de582629f9dd5cc909d9ebc80b96793"
   }
  }
 },
 "nbformat": 4,
 "nbformat_minor": 2
}
