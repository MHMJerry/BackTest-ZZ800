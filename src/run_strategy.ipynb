{
 "cells": [
  {
   "cell_type": "code",
   "execution_count": 1,
   "metadata": {},
   "outputs": [],
   "source": [
    "import pandas as pd\n",
    "import numpy as np\n",
    "import os\n",
    "import matplotlib.pylab as plt\n",
    "import scipy.stats\n",
    "import matplotlib.ticker as ticker\n",
    "from tqdm import tqdm\n",
    "import warnings\n",
    "warnings.filterwarnings(\"ignore\")\n",
    "from trade import BackTest"
   ]
  },
  {
   "cell_type": "code",
   "execution_count": 2,
   "metadata": {},
   "outputs": [
    {
     "name": "stderr",
     "output_type": "stream",
     "text": [
      "  0%|          | 0/4 [00:00<?, ?it/s]"
     ]
    },
    {
     "name": "stdout",
     "output_type": "stream",
     "text": [
      "quarterly_roa_acca_ew\n"
     ]
    },
    {
     "name": "stderr",
     "output_type": "stream",
     "text": [
      " 25%|██▌       | 1/4 [02:50<08:31, 170.43s/it]"
     ]
    },
    {
     "name": "stdout",
     "output_type": "stream",
     "text": [
      "quarterly_roa_acca_vw\n"
     ]
    },
    {
     "name": "stderr",
     "output_type": "stream",
     "text": [
      " 50%|█████     | 2/4 [06:15<06:21, 190.63s/it]"
     ]
    },
    {
     "name": "stdout",
     "output_type": "stream",
     "text": [
      "quarterly_roa_accq1_ew\n"
     ]
    },
    {
     "name": "stderr",
     "output_type": "stream",
     "text": [
      " 75%|███████▌  | 3/4 [13:17<04:56, 296.45s/it]"
     ]
    },
    {
     "name": "stdout",
     "output_type": "stream",
     "text": [
      "quarterly_roa_accq1_vw\n"
     ]
    },
    {
     "name": "stderr",
     "output_type": "stream",
     "text": [
      "100%|██████████| 4/4 [18:57<00:00, 284.29s/it]\n"
     ]
    }
   ],
   "source": [
    "strategyDir = 'strategy_profitability'\n",
    "resDir = 'res_prof'\n",
    "for sty in tqdm(os.listdir(strategyDir)):\n",
    "    if sty.startswith('strategy'):\n",
    "        name = sty[9:-5]\n",
    "        print(name)\n",
    "        for hedge in [0,0.1,0.2,0.3,0.4]:\n",
    "            resPath = f'{resDir}/{name}/{name}_{hedge}'\n",
    "            if not os.path.exists(resPath):\n",
    "                os.makedirs(resPath)\n",
    "            ins = BackTest(resPath=resPath,positionPath=f'{strategyDir}/{sty}',hedge = hedge)\n",
    "            ins.run()"
   ]
  }
 ],
 "metadata": {
  "kernelspec": {
   "display_name": "Python 3.9.7 ('base')",
   "language": "python",
   "name": "python3"
  },
  "language_info": {
   "codemirror_mode": {
    "name": "ipython",
    "version": 3
   },
   "file_extension": ".py",
   "mimetype": "text/x-python",
   "name": "python",
   "nbconvert_exporter": "python",
   "pygments_lexer": "ipython3",
   "version": "3.9.7"
  },
  "orig_nbformat": 4,
  "vscode": {
   "interpreter": {
    "hash": "5ffd3771456060ad883fd3151aa3cea74de582629f9dd5cc909d9ebc80b96793"
   }
  }
 },
 "nbformat": 4,
 "nbformat_minor": 2
}
